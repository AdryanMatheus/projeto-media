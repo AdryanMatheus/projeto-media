{
  "nbformat": 4,
  "nbformat_minor": 0,
  "metadata": {
    "colab": {
      "provenance": [],
      "authorship_tag": "ABX9TyO65lVot+GRNn/Xq35dkAIA",
      "include_colab_link": true
    },
    "kernelspec": {
      "name": "python3",
      "display_name": "Python 3"
    },
    "language_info": {
      "name": "python"
    }
  },
  "cells": [
    {
      "cell_type": "markdown",
      "metadata": {
        "id": "view-in-github",
        "colab_type": "text"
      },
      "source": [
        "<a href=\"https://colab.research.google.com/github/AdryanMatheus/projeto-media/blob/main/cadastro_aluno.ipynb\" target=\"_parent\"><img src=\"https://colab.research.google.com/assets/colab-badge.svg\" alt=\"Open In Colab\"/></a>"
      ]
    },
    {
      "cell_type": "code",
      "source": [
        "sala= []\n",
        "while True:\n",
        "    acao=int(input('''digite 1 para adicionar um aluno\n",
        "    2 para excluir um aluno\n",
        "    3 para atualizar o aluno\n",
        "    4 para ver a lista do aluno'''))\n",
        "    if acao== 1:\n",
        "        aluno = input('informe o nome do aluno')\n",
        "        sala.append(aluno)\n",
        "    elif acao== 2:\n",
        "        aluno= input('informe o aluno que deseja excluir! ')\n",
        "        if aluno in sala:\n",
        "            aluno_X= sala.index(aluno)\n",
        "            sala.pop(aluno_x)\n",
        "            print(f'{aluno} excluido com sucesso.')\n",
        "        else:\n",
        "            print('o aluno não está cadastrado.')\n",
        "    elif acao== 3:\n",
        "        if aluno in sala:\n",
        "            aluno_x= sala.index(aluno)\n",
        "            sala.pop(aluno_x)\n",
        "            aluno= input('informe o nome do aluno')\n",
        "            sala.insert(aluno_x, aluno)\n",
        "            print(f'{aluno} foi adicionado com sucesso.')\n",
        "            sala.sort()\n",
        "        else:\n",
        "            print('o aluno não está cadastrado')\n",
        "    elif acao == 4:\n",
        "        print(sala)\n",
        "    elif acao== 5:\n",
        "        break\n",
        "    else:\n",
        "        print('opção inválida')\n",
        "\n"
      ],
      "metadata": {
        "colab": {
          "base_uri": "https://localhost:8080/"
        },
        "id": "58Me48i3R_WI",
        "outputId": "12e736e2-8d92-44c2-fd5a-9433487a6c7a"
      },
      "execution_count": null,
      "outputs": [
        {
          "name": "stdout",
          "output_type": "stream",
          "text": [
            "digite 1 para adicionar um aluno\n",
            "    2 para excluir um aluno\n",
            "    3 para atualizar o aluno\n",
            "    4 para ver a lista do aluno1\n",
            "informe o nome do alunoadryan\n"
          ]
        }
      ]
    }
  ]
}